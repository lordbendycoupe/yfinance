{
 "cells": [
  {
   "cell_type": "code",
   "execution_count": 3,
   "metadata": {},
   "outputs": [
    {
     "name": "stdout",
     "output_type": "stream",
     "text": [
      "Collecting boto3\n",
      "  Downloading boto3-1.24.17-py3-none-any.whl (132 kB)\n",
      "\u001b[2K     \u001b[90m━━━━━━━━━━━━━━━━━━━━━━━━━━━━━━━━━━━━━━━\u001b[0m \u001b[32m132.5/132.5 KB\u001b[0m \u001b[31m4.9 MB/s\u001b[0m eta \u001b[36m0:00:00\u001b[0m\n",
      "\u001b[?25hCollecting jmespath<2.0.0,>=0.7.1\n",
      "  Downloading jmespath-1.0.1-py3-none-any.whl (20 kB)\n",
      "Collecting s3transfer<0.7.0,>=0.6.0\n",
      "  Using cached s3transfer-0.6.0-py3-none-any.whl (79 kB)\n",
      "Collecting botocore<1.28.0,>=1.27.17\n",
      "  Downloading botocore-1.27.17-py3-none-any.whl (8.9 MB)\n",
      "\u001b[2K     \u001b[90m━━━━━━━━━━━━━━━━━━━━━━━━━━━━━━━━━━━━━━━━\u001b[0m \u001b[32m8.9/8.9 MB\u001b[0m \u001b[31m45.2 MB/s\u001b[0m eta \u001b[36m0:00:00\u001b[0m00:01\u001b[0m00:01\u001b[0m\n",
      "\u001b[?25hRequirement already satisfied: urllib3<1.27,>=1.25.4 in /home/spock/.pyenv/versions/3.8.13/lib/python3.8/site-packages (from botocore<1.28.0,>=1.27.17->boto3) (1.26.9)\n",
      "Requirement already satisfied: python-dateutil<3.0.0,>=2.1 in /home/spock/.pyenv/versions/3.8.13/lib/python3.8/site-packages (from botocore<1.28.0,>=1.27.17->boto3) (2.8.2)\n",
      "Requirement already satisfied: six>=1.5 in /home/spock/.pyenv/versions/3.8.13/lib/python3.8/site-packages (from python-dateutil<3.0.0,>=2.1->botocore<1.28.0,>=1.27.17->boto3) (1.16.0)\n",
      "Installing collected packages: jmespath, botocore, s3transfer, boto3\n",
      "Successfully installed boto3-1.24.17 botocore-1.27.17 jmespath-1.0.1 s3transfer-0.6.0\n",
      "\u001b[33mWARNING: You are using pip version 22.0.4; however, version 22.1.2 is available.\n",
      "You should consider upgrading via the '/home/spock/.pyenv/versions/3.8.13/bin/python3.8 -m pip install --upgrade pip' command.\u001b[0m\u001b[33m\n",
      "\u001b[0m"
     ]
    }
   ],
   "source": [
    "import sys\n",
    "!pip install boto3"
   ]
  },
  {
   "cell_type": "code",
   "execution_count": 4,
   "metadata": {},
   "outputs": [],
   "source": [
    "import yfinance as yf\n",
    "import numpy as np\n",
    "import pandas as pd\n",
    "import datetime as date\n",
    "import boto3"
   ]
  },
  {
   "cell_type": "markdown",
   "metadata": {},
   "source": []
  },
  {
   "cell_type": "code",
   "execution_count": null,
   "metadata": {},
   "outputs": [],
   "source": [
    "dclient = boto3.client('dynamodb', region_name = \"us-west-1\")\n",
    "tablename = \"yml\""
   ]
  },
  {
   "cell_type": "code",
   "execution_count": null,
   "metadata": {},
   "outputs": [],
   "source": [
    "def lambda_handler(event, context):\n",
    "    as"
   ]
  },
  {
   "cell_type": "code",
   "execution_count": null,
   "metadata": {},
   "outputs": [],
   "source": [
    "# Original \n",
    "def sma_crossover_signal(ticker, short_window, long_window):\n",
    "    \n",
    "   # df = pd.read_csv(f'{ticker}.csv')\n",
    "   df = pd.read_csv(get_ticker(ticker))\n",
    "    df = df.set_index('Date')\n",
    "    \n",
    "    df[f'{short_window}-day SMA'] = df['Close'].rolling(short_window).mean()\n",
    "    df[f'{long_window}-day SMA'] = df['Close'].rolling(long_window).mean()\n",
    "    \n",
    "    buy_price = []\n",
    "    sell_price = []\n",
    "    signal = 0      \n",
    "    close = df['Close']\n",
    "    MA_short = df[f'{short_window}-day SMA']\n",
    "    MA_long = df[f'{long_window}-day SMA']\n",
    "    sma_signal = []\n",
    "        \n",
    "    for i in range(len(df)):\n",
    "    # Short-day MA crosses up Long-day MA\n",
    "        if MA_short[i] > MA_long[i]:\n",
    "            if signal != 1:\n",
    "                buy_price.append(close[i])\n",
    "                sell_price.append(np.nan)\n",
    "                signal = 1\n",
    "                sma_signal.append(1) \n",
    "            else:\n",
    "                buy_price.append(np.nan)\n",
    "                sell_price.append(np.nan)\n",
    "                sma_signal.append(np.nan)\n",
    "\n",
    "        # short-day MA crosses down long-day MA\n",
    "        elif MA_short[i] < MA_long[i]:   \n",
    "            if signal != -1:\n",
    "                buy_price.append(np.nan)\n",
    "                sell_price.append(close[i])\n",
    "                signal = -1\n",
    "                sma_signal.append(-1)\n",
    "            else:\n",
    "                buy_price.append(np.nan)\n",
    "                sell_price.append(np.nan)\n",
    "                sma_signal.append(np.nan)\n",
    "        else:\n",
    "                buy_price.append(np.nan)\n",
    "                sell_price.append(np.nan)\n",
    "                sma_signal.append(np.nan)\n",
    "    \n",
    "    df['Signal'] = sma_signal\n",
    "    \n",
    "\n",
    "    \n",
    "    return df"
   ]
  }
 ],
 "metadata": {
  "interpreter": {
   "hash": "5fdaef9cf0b8fc1310338f89f8c34ec4b37bdf42775d2daf0fcc737fe271d030"
  },
  "kernelspec": {
   "display_name": "Python 3.8.13 64-bit ('3.8.13')",
   "language": "python",
   "name": "python3"
  },
  "language_info": {
   "codemirror_mode": {
    "name": "ipython",
    "version": 3
   },
   "file_extension": ".py",
   "mimetype": "text/x-python",
   "name": "python",
   "nbconvert_exporter": "python",
   "pygments_lexer": "ipython3",
   "version": "3.8.13"
  },
  "orig_nbformat": 4
 },
 "nbformat": 4,
 "nbformat_minor": 2
}
